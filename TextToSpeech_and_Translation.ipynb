{
  "nbformat": 4,
  "nbformat_minor": 0,
  "metadata": {
    "colab": {
      "provenance": []
    },
    "kernelspec": {
      "name": "python3",
      "display_name": "Python 3"
    },
    "language_info": {
      "name": "python"
    }
  },
  "cells": [
    {
      "cell_type": "code",
      "source": [
        "pip install gtts"
      ],
      "metadata": {
        "colab": {
          "base_uri": "https://localhost:8080/"
        },
        "id": "5alDErsa63Cb",
        "outputId": "6ea9daaa-cbaa-4312-e30e-8e09cb3e366e"
      },
      "execution_count": null,
      "outputs": [
        {
          "output_type": "stream",
          "name": "stdout",
          "text": [
            "Requirement already satisfied: gtts in /usr/local/lib/python3.10/dist-packages (2.4.0)\n",
            "Requirement already satisfied: requests<3,>=2.27 in /usr/local/lib/python3.10/dist-packages (from gtts) (2.31.0)\n",
            "Requirement already satisfied: click<8.2,>=7.1 in /usr/local/lib/python3.10/dist-packages (from gtts) (8.1.7)\n",
            "Requirement already satisfied: charset-normalizer<4,>=2 in /usr/local/lib/python3.10/dist-packages (from requests<3,>=2.27->gtts) (3.3.2)\n",
            "Requirement already satisfied: idna<4,>=2.5 in /usr/local/lib/python3.10/dist-packages (from requests<3,>=2.27->gtts) (3.4)\n",
            "Requirement already satisfied: urllib3<3,>=1.21.1 in /usr/local/lib/python3.10/dist-packages (from requests<3,>=2.27->gtts) (2.0.7)\n",
            "Requirement already satisfied: certifi>=2017.4.17 in /usr/local/lib/python3.10/dist-packages (from requests<3,>=2.27->gtts) (2023.7.22)\n"
          ]
        }
      ]
    },
    {
      "cell_type": "code",
      "source": [
        "pip install playsound"
      ],
      "metadata": {
        "colab": {
          "base_uri": "https://localhost:8080/"
        },
        "id": "YkAqXmYI6-RL",
        "outputId": "11733279-3f65-4eb3-8bcd-33566b2e4c78"
      },
      "execution_count": null,
      "outputs": [
        {
          "output_type": "stream",
          "name": "stdout",
          "text": [
            "Requirement already satisfied: playsound in /usr/local/lib/python3.10/dist-packages (1.3.0)\n"
          ]
        }
      ]
    },
    {
      "cell_type": "code",
      "source": [
        "pip install pygame"
      ],
      "metadata": {
        "colab": {
          "base_uri": "https://localhost:8080/"
        },
        "id": "Zi6tVxtT740R",
        "outputId": "9ab3635e-c07a-47ad-8e91-4825bc64481f"
      },
      "execution_count": null,
      "outputs": [
        {
          "output_type": "stream",
          "name": "stdout",
          "text": [
            "Requirement already satisfied: pygame in /usr/local/lib/python3.10/dist-packages (2.5.2)\n"
          ]
        }
      ]
    },
    {
      "cell_type": "code",
      "source": [
        "pip install simpleaudio\n"
      ],
      "metadata": {
        "colab": {
          "base_uri": "https://localhost:8080/"
        },
        "id": "n6hot2_y76OZ",
        "outputId": "407edd01-7b9c-448e-8dbb-225c57fb3aa4"
      },
      "execution_count": null,
      "outputs": [
        {
          "output_type": "stream",
          "name": "stdout",
          "text": [
            "Collecting simpleaudio\n",
            "  Downloading simpleaudio-1.0.4.tar.gz (2.0 MB)\n",
            "\u001b[2K     \u001b[90m━━━━━━━━━━━━━━━━━━━━━━━━━━━━━━━━━━━━━━━━\u001b[0m \u001b[32m2.0/2.0 MB\u001b[0m \u001b[31m19.5 MB/s\u001b[0m eta \u001b[36m0:00:00\u001b[0m\n",
            "\u001b[?25h  Preparing metadata (setup.py) ... \u001b[?25l\u001b[?25hdone\n",
            "Building wheels for collected packages: simpleaudio\n",
            "  Building wheel for simpleaudio (setup.py) ... \u001b[?25l\u001b[?25hdone\n",
            "  Created wheel for simpleaudio: filename=simpleaudio-1.0.4-cp310-cp310-linux_x86_64.whl size=2054404 sha256=c912bd8ddcfdc577568ab440549a377b4a04ef7dcf7f55790246d122e0f53dc0\n",
            "  Stored in directory: /root/.cache/pip/wheels/10/70/ed/8c41675109565c2c65c3ac40d20859fc9d3f93a8efbb11d1c7\n",
            "Successfully built simpleaudio\n",
            "Installing collected packages: simpleaudio\n",
            "Successfully installed simpleaudio-1.0.4\n"
          ]
        }
      ]
    },
    {
      "cell_type": "code",
      "source": [
        "from gtts import gTTS\n",
        "from IPython.display import Audio\n",
        "\n",
        "def text_to_speech(text, language='en'):\n",
        "    tts = gTTS(text=text, lang=language, slow=False)\n",
        "    filename = \"/content/temp_audio.mp3\"\n",
        "    tts.save(filename)\n",
        "    return filename\n",
        "\n",
        "def main():\n",
        "    user_input = input(\"Enter the text you want to convert to speech: \")\n",
        "    audio_file = text_to_speech(user_input)\n",
        "    return Audio(audio_file)\n",
        "\n",
        "\n",
        "audio_output = main()\n",
        "audio_output\n"
      ],
      "metadata": {
        "colab": {
          "base_uri": "https://localhost:8080/",
          "height": 95
        },
        "id": "dFRp1i1J8ZEf",
        "outputId": "c3af0c8b-4364-4c91-bafd-b80ee827df6c"
      },
      "execution_count": null,
      "outputs": [
        {
          "name": "stdout",
          "output_type": "stream",
          "text": [
            "Enter the text you want to convert to speech: l\n"
          ]
        },
        {
          "output_type": "execute_result",
          "data": {
            "text/plain": [
              "<IPython.lib.display.Audio object>"
            ],
            "text/html": [
              "\n",
              "                <audio  controls=\"controls\" >\n",
              "                    <source src=\"data:audio/mpeg;base64,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\" type=\"audio/mpeg\" />\n",
              "                    Your browser does not support the audio element.\n",
              "                </audio>\n",
              "              "
            ]
          },
          "metadata": {},
          "execution_count": 41
        }
      ]
    },
    {
      "cell_type": "code",
      "source": [
        "!pip install googletrans==4.0.0-rc1\n",
        "!pip install gtts\n"
      ],
      "metadata": {
        "colab": {
          "base_uri": "https://localhost:8080/",
          "height": 1000
        },
        "id": "Pb3jJWPiSdYS",
        "outputId": "c576e543-11dd-4278-910b-a7e7caaca7c1"
      },
      "execution_count": null,
      "outputs": [
        {
          "output_type": "stream",
          "name": "stdout",
          "text": [
            "Collecting googletrans==4.0.0-rc1\n",
            "  Downloading googletrans-4.0.0rc1.tar.gz (20 kB)\n",
            "  Preparing metadata (setup.py) ... \u001b[?25l\u001b[?25hdone\n",
            "Collecting httpx==0.13.3 (from googletrans==4.0.0-rc1)\n",
            "  Downloading httpx-0.13.3-py3-none-any.whl (55 kB)\n",
            "\u001b[2K     \u001b[90m━━━━━━━━━━━━━━━━━━━━━━━━━━━━━━━━━━━━━━━━\u001b[0m \u001b[32m55.1/55.1 kB\u001b[0m \u001b[31m2.1 MB/s\u001b[0m eta \u001b[36m0:00:00\u001b[0m\n",
            "\u001b[?25hRequirement already satisfied: certifi in /usr/local/lib/python3.10/dist-packages (from httpx==0.13.3->googletrans==4.0.0-rc1) (2023.7.22)\n",
            "Collecting hstspreload (from httpx==0.13.3->googletrans==4.0.0-rc1)\n",
            "  Downloading hstspreload-2023.1.1-py3-none-any.whl (1.5 MB)\n",
            "\u001b[2K     \u001b[90m━━━━━━━━━━━━━━━━━━━━━━━━━━━━━━━━━━━━━━━━\u001b[0m \u001b[32m1.5/1.5 MB\u001b[0m \u001b[31m23.5 MB/s\u001b[0m eta \u001b[36m0:00:00\u001b[0m\n",
            "\u001b[?25hRequirement already satisfied: sniffio in /usr/local/lib/python3.10/dist-packages (from httpx==0.13.3->googletrans==4.0.0-rc1) (1.3.0)\n",
            "Collecting chardet==3.* (from httpx==0.13.3->googletrans==4.0.0-rc1)\n",
            "  Downloading chardet-3.0.4-py2.py3-none-any.whl (133 kB)\n",
            "\u001b[2K     \u001b[90m━━━━━━━━━━━━━━━━━━━━━━━━━━━━━━━━━━━━━━━━\u001b[0m \u001b[32m133.4/133.4 kB\u001b[0m \u001b[31m19.3 MB/s\u001b[0m eta \u001b[36m0:00:00\u001b[0m\n",
            "\u001b[?25hCollecting idna==2.* (from httpx==0.13.3->googletrans==4.0.0-rc1)\n",
            "  Downloading idna-2.10-py2.py3-none-any.whl (58 kB)\n",
            "\u001b[2K     \u001b[90m━━━━━━━━━━━━━━━━━━━━━━━━━━━━━━━━━━━━━━━━\u001b[0m \u001b[32m58.8/58.8 kB\u001b[0m \u001b[31m9.7 MB/s\u001b[0m eta \u001b[36m0:00:00\u001b[0m\n",
            "\u001b[?25hCollecting rfc3986<2,>=1.3 (from httpx==0.13.3->googletrans==4.0.0-rc1)\n",
            "  Downloading rfc3986-1.5.0-py2.py3-none-any.whl (31 kB)\n",
            "Collecting httpcore==0.9.* (from httpx==0.13.3->googletrans==4.0.0-rc1)\n",
            "  Downloading httpcore-0.9.1-py3-none-any.whl (42 kB)\n",
            "\u001b[2K     \u001b[90m━━━━━━━━━━━━━━━━━━━━━━━━━━━━━━━━━━━━━━━━\u001b[0m \u001b[32m42.6/42.6 kB\u001b[0m \u001b[31m6.1 MB/s\u001b[0m eta \u001b[36m0:00:00\u001b[0m\n",
            "\u001b[?25hCollecting h11<0.10,>=0.8 (from httpcore==0.9.*->httpx==0.13.3->googletrans==4.0.0-rc1)\n",
            "  Downloading h11-0.9.0-py2.py3-none-any.whl (53 kB)\n",
            "\u001b[2K     \u001b[90m━━━━━━━━━━━━━━━━━━━━━━━━━━━━━━━━━━━━━━━━\u001b[0m \u001b[32m53.6/53.6 kB\u001b[0m \u001b[31m7.8 MB/s\u001b[0m eta \u001b[36m0:00:00\u001b[0m\n",
            "\u001b[?25hCollecting h2==3.* (from httpcore==0.9.*->httpx==0.13.3->googletrans==4.0.0-rc1)\n",
            "  Downloading h2-3.2.0-py2.py3-none-any.whl (65 kB)\n",
            "\u001b[2K     \u001b[90m━━━━━━━━━━━━━━━━━━━━━━━━━━━━━━━━━━━━━━━━\u001b[0m \u001b[32m65.0/65.0 kB\u001b[0m \u001b[31m10.2 MB/s\u001b[0m eta \u001b[36m0:00:00\u001b[0m\n",
            "\u001b[?25hCollecting hyperframe<6,>=5.2.0 (from h2==3.*->httpcore==0.9.*->httpx==0.13.3->googletrans==4.0.0-rc1)\n",
            "  Downloading hyperframe-5.2.0-py2.py3-none-any.whl (12 kB)\n",
            "Collecting hpack<4,>=3.0 (from h2==3.*->httpcore==0.9.*->httpx==0.13.3->googletrans==4.0.0-rc1)\n",
            "  Downloading hpack-3.0.0-py2.py3-none-any.whl (38 kB)\n",
            "Building wheels for collected packages: googletrans\n",
            "  Building wheel for googletrans (setup.py) ... \u001b[?25l\u001b[?25hdone\n",
            "  Created wheel for googletrans: filename=googletrans-4.0.0rc1-py3-none-any.whl size=17396 sha256=c1edc5ba2b11bc77b66444092d0c86719687efa16c169fbe51b532e8198b2a95\n",
            "  Stored in directory: /root/.cache/pip/wheels/c0/59/9f/7372f0cf70160fe61b528532e1a7c8498c4becd6bcffb022de\n",
            "Successfully built googletrans\n",
            "Installing collected packages: rfc3986, hyperframe, hpack, h11, chardet, idna, hstspreload, h2, httpcore, httpx, googletrans\n",
            "  Attempting uninstall: chardet\n",
            "    Found existing installation: chardet 5.2.0\n",
            "    Uninstalling chardet-5.2.0:\n",
            "      Successfully uninstalled chardet-5.2.0\n",
            "  Attempting uninstall: idna\n",
            "    Found existing installation: idna 3.4\n",
            "    Uninstalling idna-3.4:\n",
            "      Successfully uninstalled idna-3.4\n",
            "Successfully installed chardet-3.0.4 googletrans-4.0.0rc1 h11-0.9.0 h2-3.2.0 hpack-3.0.0 hstspreload-2023.1.1 httpcore-0.9.1 httpx-0.13.3 hyperframe-5.2.0 idna-2.10 rfc3986-1.5.0\n"
          ]
        },
        {
          "output_type": "display_data",
          "data": {
            "application/vnd.colab-display-data+json": {
              "pip_warning": {
                "packages": [
                  "chardet",
                  "idna"
                ]
              }
            }
          },
          "metadata": {}
        },
        {
          "output_type": "stream",
          "name": "stdout",
          "text": [
            "Requirement already satisfied: gtts in /usr/local/lib/python3.10/dist-packages (2.4.0)\n",
            "Requirement already satisfied: requests<3,>=2.27 in /usr/local/lib/python3.10/dist-packages (from gtts) (2.31.0)\n",
            "Requirement already satisfied: click<8.2,>=7.1 in /usr/local/lib/python3.10/dist-packages (from gtts) (8.1.7)\n",
            "Requirement already satisfied: charset-normalizer<4,>=2 in /usr/local/lib/python3.10/dist-packages (from requests<3,>=2.27->gtts) (3.3.2)\n",
            "Requirement already satisfied: idna<4,>=2.5 in /usr/local/lib/python3.10/dist-packages (from requests<3,>=2.27->gtts) (2.10)\n",
            "Requirement already satisfied: urllib3<3,>=1.21.1 in /usr/local/lib/python3.10/dist-packages (from requests<3,>=2.27->gtts) (2.0.7)\n",
            "Requirement already satisfied: certifi>=2017.4.17 in /usr/local/lib/python3.10/dist-packages (from requests<3,>=2.27->gtts) (2023.7.22)\n"
          ]
        }
      ]
    },
    {
      "cell_type": "code",
      "source": [
        "from googletrans import Translator, LANGUAGES\n",
        "from gtts import gTTS\n",
        "from IPython.display import Audio\n",
        "\n",
        "# Function to translate text\n",
        "def translate_text(text, dest_language='ur'):\n",
        "    translator = Translator()\n",
        "    translation = translator.translate(text, dest=dest_language)\n",
        "    return translation.text\n",
        "\n",
        "# Function to convert text to speech\n",
        "def text_to_speech(text, language='ur'):\n",
        "    tts = gTTS(text=text, lang=language, slow=False)\n",
        "    filename = \"/content/temp_audio.mp3\"\n",
        "    tts.save(filename)\n",
        "    return filename\n",
        "\n",
        "def main():\n",
        "    user_input = input(\"Enter the English text to translate and convert to speech: \")\n",
        "    translated_text = translate_text(user_input)\n",
        "    print(\"Translated Text:\", translated_text)\n",
        "    audio_file = text_to_speech(translated_text)\n",
        "    return Audio(audio_file)\n",
        "\n",
        "audio_output = main()\n",
        "audio_output\n"
      ],
      "metadata": {
        "colab": {
          "base_uri": "https://localhost:8080/",
          "height": 113
        },
        "id": "-nd500DTSdc5",
        "outputId": "20a4ca16-f31a-4a57-f492-825c2c95545f"
      },
      "execution_count": null,
      "outputs": [
        {
          "output_type": "stream",
          "name": "stdout",
          "text": [
            "Enter the English text to translate and convert to speech: Kohli you will not chase it\n",
            "Translated Text: کوہلی آپ اس کا پیچھا نہیں کریں گے\n"
          ]
        },
        {
          "output_type": "execute_result",
          "data": {
            "text/plain": [
              "<IPython.lib.display.Audio object>"
            ],
            "text/html": [
              "\n",
              "                <audio  controls=\"controls\" >\n",
              "                    <source src=\"data:audio/mpeg;base64,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\" type=\"audio/mpeg\" />\n",
              "                    Your browser does not support the audio element.\n",
              "                </audio>\n",
              "              "
            ]
          },
          "metadata": {},
          "execution_count": 57
        }
      ]
    }
  ]
}